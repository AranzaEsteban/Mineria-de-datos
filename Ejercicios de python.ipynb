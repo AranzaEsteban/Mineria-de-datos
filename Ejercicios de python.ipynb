{
 "cells": [
  {
   "cell_type": "markdown",
   "metadata": {},
   "source": [
    "# Ejercio 1\n",
    "\n",
    "   - Realiza una variable con tu matricula y realiza una secuencia de imprimir con tu nombre y tu matrícula concatenados.\n"
   ]
  },
  {
   "cell_type": "code",
   "execution_count": 2,
   "metadata": {},
   "outputs": [
    {
     "name": "stdout",
     "output_type": "stream",
     "text": [
      "Introduce tu nombre: Aranza Alejandra Esteban Avalos\n",
      "Introduce tu matricula: 1941599\n",
      "Aranza Alejandra Esteban Avalos 1941599\n"
     ]
    }
   ],
   "source": [
    "\n",
    "n=str(input(\"Introduce tu nombre: \"))\n",
    "m=int(input(\"Introduce tu matricula: \"))\n",
    "\n",
    "print(n+\" \"+str(m))"
   ]
  },
  {
   "cell_type": "markdown",
   "metadata": {},
   "source": [
    "# Ejercicio 2\n",
    "\n",
    "   - Pidiendo el input del usuario pide dos números y crea una pequeña calculadora con los operadores básicos de suma, resta, multiplicación, división, y exponente."
   ]
  },
  {
   "cell_type": "code",
   "execution_count": 4,
   "metadata": {},
   "outputs": [
    {
     "name": "stdout",
     "output_type": "stream",
     "text": [
      "\t\tCalculador de operaciones\n",
      "\n",
      "\n",
      "Menu de opciones\n",
      " 1)Suma\n",
      " 2)Resta\n",
      " 3)Multiplicacion\n",
      " 4)Division\n",
      " 5)Exponencial\n",
      " 0)Salir\n",
      "Introduzca la opcion deseada: 7\n",
      "Favor de introducir una opcion valida\n",
      "\n",
      "\n",
      "Menu de opciones\n",
      " 1)Suma\n",
      " 2)Resta\n",
      " 3)Multiplicacion\n",
      " 4)Division\n",
      " 5)Exponencial\n",
      " 0)Salir\n",
      "Introduzca la opcion deseada: 3\n",
      "Introduzca el primer valor deseado: 4\n",
      "Indroduzca se segundo valor deseado: 8\n",
      "El resultado de  4.0 * 8.0 es= 32.0\n",
      "\n",
      "\n",
      "Menu de opciones\n",
      " 1)Suma\n",
      " 2)Resta\n",
      " 3)Multiplicacion\n",
      " 4)Division\n",
      " 5)Exponencial\n",
      " 0)Salir\n",
      "Introduzca la opcion deseada: 0\n"
     ]
    }
   ],
   "source": [
    "print(\"\\t\\tCalculador de operaciones\")\n",
    "def menu():\n",
    "    print(\"\\n\\nMenu de opciones\\n 1)Suma\\n 2)Resta\\n 3)Multiplicacion\\n 4)Division\\n 5)Exponencial\\n 0)Salir\")\n",
    "\n",
    "opc=0\n",
    "while opc != 6 :\n",
    "    menu()\n",
    "    \n",
    "    opc=int(input(\"Introduzca la opcion deseada: \"))\n",
    "    \n",
    "    if opc == 0 :\n",
    "        break\n",
    "        \n",
    "    if  opc>=6:\n",
    "        \n",
    "        print(\"Favor de introducir una opcion valida\")\n",
    "        menu()\n",
    "        opc=int(input(\"Introduzca la opcion deseada: \"))\n",
    "        \n",
    "    a1=float(input(\"Introduzca el primer valor deseado: \"))\n",
    "    a2=float(input(\"Indroduzca se segundo valor deseado: \"))\n",
    "    \n",
    "    if opc==1:\n",
    "        print(\"El resultado de\",a1,\"+\",a2, \"es=\", a1+a2)\n",
    "    elif opc==2:\n",
    "        print(\"El resultado de \",a1, \"-\", a2, \"es=\", a1-a2)\n",
    "    elif opc==3:\n",
    "        print(\"El resultado de \", a1,\"*\",a2, \"es=\", a1*a2)\n",
    "    elif opc==4:\n",
    "        if a2==0:\n",
    "             print(\"Valores no validos\")\n",
    "        else:\n",
    "             print(\"El resultado \", a1, \"/\",a2,\"es=\", a1/a2)\n",
    "    elif opc==5 :\n",
    "        print(\"El resultado de \",a1, \"elevado a la potencia de\",a2, \"es=\", a1**a2)\n",
    "        \n",
    "    else:\n",
    "        print(\"Favor de introducir una opcion valida\")\n",
    "    "
   ]
  },
  {
   "cell_type": "markdown",
   "metadata": {},
   "source": [
    "# Ejercicio 3\n",
    "\n",
    "   - Con loop while o for, realiza una lista de 10 números múltiplos de 3, y después realiza una función de loop que sume todos los números dentro del arreglo."
   ]
  },
  {
   "cell_type": "code",
   "execution_count": 6,
   "metadata": {
    "scrolled": true
   },
   "outputs": [
    {
     "name": "stdout",
     "output_type": "stream",
     "text": [
      "\n",
      "Primeros multiplos del 3:  [3, 6, 9, 12, 15, 18, 21, 24, 27, 30]\n",
      "\n",
      "Sumatoria de los multiplos obtenidos:  165\n"
     ]
    }
   ],
   "source": [
    "i=3\n",
    "suma=0\n",
    "acum=0\n",
    "multiplos=[ ]\n",
    "\n",
    "while acum < 10:\n",
    "    if i%3==0:\n",
    "        multiplos.append(i)\n",
    "        suma=suma+i\n",
    "        acum=acum+1\n",
    "    i=i+1\n",
    "\n",
    "print(\"\\nPrimeros multiplos del 3: \", multiplos)\n",
    "print(\"\\nSumatoria de los multiplos obtenidos: \", suma)\n"
   ]
  },
  {
   "cell_type": "markdown",
   "metadata": {},
   "source": [
    "# Ejercico 4\n",
    "    \n",
    "   - Con una función de if else, revisar si un número es par o es impar. Con una función de if else, revisar si un número es primo o no."
   ]
  },
  {
   "cell_type": "code",
   "execution_count": 11,
   "metadata": {},
   "outputs": [
    {
     "name": "stdout",
     "output_type": "stream",
     "text": [
      "Introduzcca un numero: 9\n",
      "\n",
      "Su numero es impar\n",
      "\n",
      " 9 no es un número primo.\n"
     ]
    }
   ],
   "source": [
    "\n",
    "num=int(input(\"Introduzcca un numero: \"))\n",
    "if(num%2==0):\n",
    "    print(\"\\nSu numero es par\")\n",
    "     \n",
    "else:\n",
    "    print(\"\\nSu numero es impar\")\n",
    "cont=0\n",
    "for n in range (1, num+1):\n",
    "    if num%n==0:\n",
    "        cont=cont+1\n",
    "\n",
    "if cont==2:\n",
    "    print(\"\\n\", num, \"es un número primo.\")\n",
    "else:\n",
    "    print(\"\\n\", num, \"no es un número primo.\")"
   ]
  },
  {
   "cell_type": "markdown",
   "metadata": {},
   "source": [
    "# Ejercicio 5\n",
    "\n",
    "   - Utilizando diferentes clases en python, crea una calculadora con los operadores básicos de suma, resta, multiplicación, división, y exponente."
   ]
  },
  {
   "cell_type": "code",
   "execution_count": 15,
   "metadata": {},
   "outputs": [
    {
     "name": "stdout",
     "output_type": "stream",
     "text": [
      "\n",
      "    ¿Qué quieres hacer?\n",
      "    1) Sumar los números\n",
      "    2) Restar los números\n",
      "    3) Multiplicar los números\n",
      "    4) Dividir los números\n",
      "    5) El exponente de los números \n",
      "    6) Salir\n",
      "    \n",
      "Introduce una opción: 3\n",
      "Ingresa el primer número: 23\n",
      "Ingresa el segundo número: 24\n",
      "El resultado de la multiplicar de 23 y 24 es igual a: 552\n",
      "\n",
      "    ¿Qué quieres hacer?\n",
      "    1) Sumar los números\n",
      "    2) Restar los números\n",
      "    3) Multiplicar los números\n",
      "    4) Dividir los números\n",
      "    5) El exponente de los números \n",
      "    6) Salir\n",
      "    \n",
      "Introduce una opción: 1\n",
      "Ingresa el primer número: 234\n",
      "Ingresa el segundo número: 23\n",
      "El resultado de la suma de  234 y 23 es igual a: 257\n",
      "\n",
      "    ¿Qué quieres hacer?\n",
      "    1) Sumar los números\n",
      "    2) Restar los números\n",
      "    3) Multiplicar los números\n",
      "    4) Dividir los números\n",
      "    5) El exponente de los números \n",
      "    6) Salir\n",
      "    \n",
      "Introduce una opción: 6\n"
     ]
    }
   ],
   "source": [
    "class calculadora:\n",
    "    def sumar(self, x, y):\n",
    "        print ('El resultado de la suma de  ' +str(x) + ' y '+str(y)+ ' es igual a: '+str((x+y)) )\n",
    "    def restar(self, x, y):\n",
    "        print ('El resultado de la resta de  '+str(x) + ' y '+str(y)+ ' es igual a: '+str((x-y)) )\n",
    "    def multiplicar(self, x, y):\n",
    "        print ('El resultado de la multiplicar de '+str(x) + ' y '+str(y)+ ' es igual a: '+str((x*y)) )\n",
    "    def dividir(self, x, y):\n",
    "        print ('El resultado de dividir  '+str(x) + ' y '+str(y)+ ' es igual a: '+str((x/y)) )\n",
    "    def exponente(self, x, y):\n",
    "        print ('El resultado de elevar a una potencia  '+str(x) + ' y ' +str(y)+ ' es igual a: '+str((x**y)) )\n",
    "\n",
    "calc= calculadora()\n",
    "def menu():\n",
    "    print(\"\"\"\n",
    "    ¿Qué quieres hacer?\n",
    "    1) Sumar los números\n",
    "    2) Restar los números\n",
    "    3) Multiplicar los números\n",
    "    4) Dividir los números\n",
    "    5) El exponente de los números \n",
    "    6) Salir\n",
    "    \"\"\")\n",
    "    return int(input('Introduce una opción: '))\n",
    "\n",
    "while(True):\n",
    "    opción= menu()\n",
    "    if(opción==6):\n",
    "        break\n",
    "    else:\n",
    "        num1= int(input('Ingresa el primer número: '))\n",
    "        num2= int(input('Ingresa el segundo número: '))\n",
    "        \n",
    "        if(opción==1):\n",
    "            calc.sumar(num1, num2)\n",
    "        elif(opción==2):\n",
    "            calc.restar(num1, num2)\n",
    "        elif(opción==3):\n",
    "            calc.multiplicar(num1, num2)\n",
    "        elif(opción==4):\n",
    "            calc.dividir(num1, num2)\n",
    "        elif(opción==5):\n",
    "            calc.exponente(num1, num2)\n",
    "        else:\n",
    "            print('Opción no valida')"
   ]
  },
  {
   "cell_type": "markdown",
   "metadata": {},
   "source": [
    "# Ejercicios con estructuras básicas de Phyton\n",
    "\n",
    "## Tuplas\n",
    "    Las tuplas son objetos iterativos, son inmutables y se identifican mediante parentesís\n",
    "- Crear una variable flotante, integer, boleana y compleja e imprimir el tipo de variable que es."
   ]
  },
  {
   "cell_type": "code",
   "execution_count": 17,
   "metadata": {},
   "outputs": [
    {
     "name": "stdout",
     "output_type": "stream",
     "text": [
      "La variable es 86.79 y es de tipo <class 'float'>\n",
      "La variable es 751 y es de tipo <class 'int'>\n",
      "La variable es True y es de tipo <class 'bool'>\n",
      "La variable es (657+4j) y es de tipo <class 'complex'>\n"
     ]
    }
   ],
   "source": [
    "x=86.79 \n",
    "tipo1=type(x)\n",
    "print (\"La variable es\",x, \"y es de tipo\",tipo1)\n",
    "\n",
    "y=751 \n",
    "tipo2=type(y)\n",
    "print(\"La variable es\",y, \"y es de tipo\", tipo2)\n",
    "\n",
    "IscodingFun=True \n",
    "tipo3=type(IscodingFun)\n",
    "print(\"La variable es\",IscodingFun,\"y es de tipo\",tipo3)\n",
    "\n",
    "Complex=657+4j \n",
    "tipo4=type(Complex)\n",
    "print(\"La variable es\", Complex, \"y es de tipo\", tipo4)"
   ]
  },
  {
   "cell_type": "markdown",
   "metadata": {},
   "source": [
    "- Crear una tupla con valores enteros imprimir el primer y último valor."
   ]
  },
  {
   "cell_type": "code",
   "execution_count": 18,
   "metadata": {},
   "outputs": [
    {
     "name": "stdout",
     "output_type": "stream",
     "text": [
      "Primer valor de la tupla es igual a: 1 y el último es igual a: 3 \n",
      "\n"
     ]
    }
   ],
   "source": [
    "listatupla = (1,2,3)\n",
    "print(\"Primer valor de la tupla es igual a:\",listatupla[0], \"y el último es igual a:\",listatupla[2],\"\\n\")"
   ]
  },
  {
   "cell_type": "markdown",
   "metadata": {},
   "source": [
    "- Verificar si una variable existe dentro de la tupla."
   ]
  },
  {
   "cell_type": "code",
   "execution_count": 31,
   "metadata": {},
   "outputs": [
    {
     "name": "stdout",
     "output_type": "stream",
     "text": [
      "Ingrese un dato a buscar:y\n",
      "su dato no fue encontrado en la tupla\n"
     ]
    }
   ],
   "source": [
    "tup=('a','e','i','o','u')\n",
    "a=str(input(\"Ingrese un dato a buscar:\"))\n",
    "if ((a in tup)==True):\n",
    "    print(\"su dato fue encontrado en la tupla\")\n",
    "else:\n",
    "    print(\"su dato no fue encontrado en la tupla\")"
   ]
  },
  {
   "cell_type": "markdown",
   "metadata": {},
   "source": [
    "## Listas\n",
    "   - Crear una lista con 40 elementos aleatorios enteros."
   ]
  },
  {
   "cell_type": "code",
   "execution_count": 32,
   "metadata": {},
   "outputs": [
    {
     "name": "stdout",
     "output_type": "stream",
     "text": [
      "Los 40 elementos son: [3674, 2788, 3059, 1958, 3324, 3772, 3029, 1708, 1972, 2005, 217, 2132, 2522, 1456, 546, 43, 401, 1666, 2404, 1928, 353, 324, 2753, 735, 2155, 263, 1569, 3066, 2993, 3344, 2925, 2217, 1474, 929, 3595, 2300, 370, 3762, 2279, 3576]\n"
     ]
    }
   ],
   "source": [
    "import random\n",
    "listAle=[random.randint(0,3928) for i in range(40)]\n",
    "print(\"Los 40 elementos son:\",listAle)"
   ]
  },
  {
   "cell_type": "markdown",
   "metadata": {},
   "source": [
    "- Con una funcion (def) crear dos listas nuevas a partir de la lista creada por numeros aleatorios, en la cual en una esten los elementos pares, y en la otra los elementos impares."
   ]
  },
  {
   "cell_type": "code",
   "execution_count": 33,
   "metadata": {},
   "outputs": [
    {
     "name": "stdout",
     "output_type": "stream",
     "text": [
      "La lista de numeros pares aleatorios es: [3674, 2788, 1958, 3324, 3772, 1708, 1972, 2132, 2522, 1456, 546, 1666, 2404, 1928, 324, 3066, 3344, 1474, 2300, 370, 3762, 3576]\n",
      "La lista de numeros impares aleatorios es: [3059, 3029, 2005, 217, 43, 401, 353, 2753, 735, 2155, 263, 1569, 2993, 2925, 2217, 929, 3595, 2279]\n"
     ]
    }
   ],
   "source": [
    "listAle=[3674, 2788, 3059, 1958, 3324, 3772, 3029, 1708, 1972, 2005, 217, 2132, 2522, 1456, 546, 43, 401, 1666, 2404, 1928, 353, 324, 2753, 735, 2155, 263, 1569, 3066, 2993, 3344, 2925, 2217, 1474, 929, 3595, 2300, 370, 3762, 2279, 3576]\n",
    "listpar=[]\n",
    "listimp=[]\n",
    "def listas():\n",
    "    for i in range(40):\n",
    "        h=listAle[i]%2\n",
    "        if h==0:\n",
    "            listpar.append(listAle[i])\n",
    "        else:\n",
    "            listimp.append(listAle[i])\n",
    "    print(\"La lista de numeros pares aleatorios es:\",listpar)\n",
    "    print(\"La lista de numeros impares aleatorios es:\",listimp)\n",
    "listas()"
   ]
  },
  {
   "cell_type": "markdown",
   "metadata": {},
   "source": [
    "- Ordenar los elementos de la lista par de mayor a menor, y los de la lista impar de menor a mayor."
   ]
  },
  {
   "cell_type": "code",
   "execution_count": 38,
   "metadata": {},
   "outputs": [
    {
     "name": "stdout",
     "output_type": "stream",
     "text": [
      "Lista par ascendente:  [3772, 3762, 3674, 3576, 3344, 3324, 3066, 2788, 2522, 2404, 2300, 2132, 1972, 1958, 1928, 1708, 1666, 1474, 1456, 546, 370, 324] \n",
      "Lista impar descendente:  [85, 175, 213, 335, 339, 363, 397, 419, 475, 673, 735, 745, 877, 891, 917, 1161, 1185]\n"
     ]
    }
   ],
   "source": [
    "istpar=[3674, 2788, 3059, 1958, 3324, 3772, 3029, 1708, 1972, 2005, 217, 2132, 2522, 1456, 546, 43, 401, 1666, 2404, 1928, 353, 324, 2753, 735, 2155, 263, 1569, 3066, 2993, 3344, 2925, 2217, 1474, 929, 3595, 2300, 370, 3762, 2279, 3576]\n",
    "listimp=[917, 175, 85, 339, 397, 475, 1161, 891, 735, 1185, 213, 419, 363, 877, 335, 673, 745]\n",
    "listpar.sort(reverse=True)\n",
    "listimp.sort()\n",
    "print(\"Lista par ascendente: \", listpar,\"\\nLista impar descendente: \",listimp)"
   ]
  },
  {
   "cell_type": "markdown",
   "metadata": {},
   "source": [
    "- Utilizar al menos cuatro de las funciones de listas en python en la lista original de 40 elementos."
   ]
  },
  {
   "cell_type": "code",
   "execution_count": 39,
   "metadata": {},
   "outputs": [
    {
     "name": "stdout",
     "output_type": "stream",
     "text": [
      "Cantidad de datos en lista : 41 \n",
      "Numero mayor de los datos: 3772 \n",
      "Numero menor de los datos: 43 \n",
      "Suma de los datos de la lista:  82010\n",
      "Numero de veces que aparece el 424 en la lista:  1\n"
     ]
    }
   ],
   "source": [
    "listAle=[3674, 2788, 3059, 1958, 3324, 3772, 3029, 1708, 1972, 2005, 217, 2132, 2522, 1456, 546, 43, 401, 1666, 2404, 1928, 353, 324, 2753, 735, 2155, 263, 1569, 3066, 2993, 3344, 2925, 2217, 1474, 929, 3595, 2300, 370, 3762, 2279, 3576]\n",
    "listAle.insert(2,424)\n",
    "b=listAle.count(424)\n",
    "print(\"Cantidad de datos en lista :\",len(listAle),\"\\nNumero mayor de los datos:\",max(listAle),\"\\nNumero menor de los datos:\",min(listAle), \"\\nSuma de los datos de la lista: \",sum(listAle))\n",
    "print(\"Numero de veces que aparece el 424 en la lista: \",b)"
   ]
  },
  {
   "cell_type": "markdown",
   "metadata": {},
   "source": [
    "## Diccionario\n",
    "  - Crear un diccionario de 6 personas que conozcas con su primer nombre y su edad."
   ]
  },
  {
   "cell_type": "code",
   "execution_count": 45,
   "metadata": {},
   "outputs": [],
   "source": [
    "dic={'Aranza':'19','Azael':'21','Andres':'21','Jose':'22','Francisco':'21','Fabiola':'20'}"
   ]
  },
  {
   "cell_type": "markdown",
   "metadata": {},
   "source": [
    "- Crear una lista con los valores de la edad y reacomodar la lista de menor a mayor valor."
   ]
  },
  {
   "cell_type": "code",
   "execution_count": 48,
   "metadata": {},
   "outputs": [
    {
     "name": "stdout",
     "output_type": "stream",
     "text": [
      "Las edades son: [19, 20, 21, 21, 24, 26]\n"
     ]
    }
   ],
   "source": [
    "dic={'Aranza':19,'Azael':21,'Andres':21,'Jose':22,'Francisco':21,'Fabiola':20}\n",
    "edad=[]\n",
    "for i in diccionario:\n",
    "    if type(diccionario[i]) == type(98):\n",
    "        edad.append(diccionario[i])\n",
    "edad.sort()\n",
    "print(\"Las edades son:\",edad)"
   ]
  },
  {
   "cell_type": "markdown",
   "metadata": {},
   "source": [
    "- Usando el diccionario y un loop, imprimir solo los nombres"
   ]
  },
  {
   "cell_type": "code",
   "execution_count": 50,
   "metadata": {},
   "outputs": [
    {
     "name": "stdout",
     "output_type": "stream",
     "text": [
      "dict_keys(['Aranza', 'Azael', 'Andres', 'Jose', 'Francisco'])\n"
     ]
    }
   ],
   "source": [
    "diccionario={'Aranza':19,'Azael':21,'Andres':21,'Jose':22,'Francisco':21}\n",
    "a=diccionario.keys()\n",
    "print(a)"
   ]
  },
  {
   "cell_type": "markdown",
   "metadata": {},
   "source": [
    "- Añadir dos personas nuevas a tu diccionario, incluyendo edad"
   ]
  },
  {
   "cell_type": "code",
   "execution_count": 51,
   "metadata": {},
   "outputs": [
    {
     "name": "stdout",
     "output_type": "stream",
     "text": [
      "{'Aranza': 19, 'Azael': 21, 'Andres': 21, 'Jose': 22, 'Francisco': 21, 'Cesar': 21, 'Karla': 25}\n"
     ]
    }
   ],
   "source": [
    "diccionario={'Aranza':19,'Azael':21,'Andres':21,'Jose':22,'Francisco':21}\n",
    "diccionario['Cesar']=21\n",
    "diccionario['Karla']=25\n",
    "print(diccionario)"
   ]
  },
  {
   "cell_type": "markdown",
   "metadata": {},
   "source": [
    "## Sets\n",
    "   - Crea un set con 100 numeros aleatorios enteros del 1 al 25."
   ]
  },
  {
   "cell_type": "code",
   "execution_count": 54,
   "metadata": {},
   "outputs": [
    {
     "name": "stdout",
     "output_type": "stream",
     "text": [
      "Ingrese cuantos numeros aleatorios desea obtener\n",
      "30\n",
      "[20, 5, 18, 4, 7, 8, 3, 24, 16, 7, 9, 11, 5, 2, 20, 16, 2, 17, 25, 10, 12, 18, 1, 22, 9, 4, 23, 3, 4, 22]\n",
      "{1, 2, 3, 4, 5, 7, 8, 9, 10, 11, 12, 16, 17, 18, 20, 22, 23, 24, 25}\n"
     ]
    }
   ],
   "source": [
    "import random\n",
    "def listaSets(a):\n",
    "    lista = [0]  * a\n",
    "    for i in range(a):\n",
    "          lista[i] = random.randint(1, 25) #Rango de numeros para crear la lista\n",
    "    return lista\n",
    "\n",
    "print(\"Ingrese cuantos numeros aleatorios desea obtener\")\n",
    "a=int(input())\n",
    "\n",
    "\n",
    "secs=listaSets(a)\n",
    "print(secs)\n",
    "\n",
    "secs=set(secs)\n",
    "print(secs)"
   ]
  },
  {
   "cell_type": "markdown",
   "metadata": {},
   "source": [
    "- Compruebe la longitud de tu set "
   ]
  },
  {
   "cell_type": "code",
   "execution_count": 55,
   "metadata": {},
   "outputs": [
    {
     "name": "stdout",
     "output_type": "stream",
     "text": [
      "Los sets no tienen valores duplicados: {1, 2, 3, 4, 5, 6, 7, 8, 9, 10, 11, 12, 13, 14, 15, 16, 17, 18, 19, 20, 21, 22, 23, 24, 25}\n",
      "Por eso su longitud es: 25\n"
     ]
    }
   ],
   "source": [
    "import random as r\n",
    "p=set()\n",
    "for i in range(100):\n",
    "    s=r.randint(1,25)\n",
    "    p.add(s)\n",
    "print(\"Los sets no tienen valores duplicados:\",p)\n",
    "print(\"Por eso su longitud es:\",len(p))"
   ]
  },
  {
   "cell_type": "markdown",
   "metadata": {},
   "source": [
    "- Crea una lista de 5 numeros aleatorios del 1 al 10 y comprueba si cada valor aparece en el set inicial."
   ]
  },
  {
   "cell_type": "code",
   "execution_count": 56,
   "metadata": {},
   "outputs": [
    {
     "name": "stdout",
     "output_type": "stream",
     "text": [
      "El numero 4 aparece en el set.\n",
      "El numero 5 aparece en el set.\n",
      "El numero 6 aparece en el set.\n",
      "El numero 9 aparece en el set.\n",
      "El numero 6 aparece en el set.\n"
     ]
    }
   ],
   "source": [
    "lista = []\n",
    "\n",
    "for i in range(5):\n",
    "    lista.append(r.randint(1,10))\n",
    "    if lista[i] in p:\n",
    "        print(\"El numero\", lista[i],\"aparece en el set.\")\n",
    "    else:\n",
    "        print(\"El numero\", lista[i],\"No aparece en el set.\")"
   ]
  },
  {
   "cell_type": "code",
   "execution_count": null,
   "metadata": {},
   "outputs": [],
   "source": []
  }
 ],
 "metadata": {
  "kernelspec": {
   "display_name": "Python 3",
   "language": "python",
   "name": "python3"
  },
  "language_info": {
   "codemirror_mode": {
    "name": "ipython",
    "version": 3
   },
   "file_extension": ".py",
   "mimetype": "text/x-python",
   "name": "python",
   "nbconvert_exporter": "python",
   "pygments_lexer": "ipython3",
   "version": "3.8.5"
  }
 },
 "nbformat": 4,
 "nbformat_minor": 4
}
